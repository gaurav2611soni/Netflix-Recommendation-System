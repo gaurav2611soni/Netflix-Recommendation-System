{
 "cells": [
  {
   "cell_type": "markdown",
   "metadata": {},
   "source": [
    "# Netflix Movie Recommendation System"
   ]
  },
  {
   "cell_type": "markdown",
   "metadata": {},
   "source": [
    "## Business Problem\n",
    "\n",
    "<p>Netflix is all about connecting people to the movies they love. To help customers find those movies, they developed world-class movie recommendation system: CinematchSM. Its job is to predict whether someone will enjoy a movie based on how much they liked or disliked other movies. Netflix use those predictions to make personal movie recommendations based on each customer’s unique tastes. And while Cinematch is doing pretty well, it can always be made better.</p>\n",
    "\n",
    "<p>Now there are a lot of interesting alternative approaches to how Cinematch works that netflix haven’t tried. Some are described in the literature, some aren’t. We’re curious whether any of these can beat Cinematch by making better predictions. Because, frankly, if there is a much better approach it could make a big difference to our customers and our business.</p>\n",
    "\n",
    "<p>Credits: https://www.netflixprize.com/rules.html</p>\n",
    "\n",
    "## Problem Statement\n",
    "<p>Netflix provided a lot of anonymous rating data, and a prediction accuracy bar that is 10% better than what Cinematch can do on the same training data set. (Accuracy is a measurement of how closely predicted ratings of movies match subsequent actual ratings.)</p>\n",
    "\n",
    "## Sources\n",
    "* https://www.netflixprize.com/rules.html\n",
    "* https://www.kaggle.com/netflix-inc/netflix-prize-data\n",
    "* Netflix blog: https://medium.com/netflix-techblog/netflix-recommendations-beyond-the-5-stars-part-1-55838468f429 (very nice blog)\n",
    "* surprise library: http://surpriselib.com/ (we use many models from this library)\n",
    "* surprise library doc: http://surprise.readthedocs.io/en/stable/getting_started.html (we use many models from this library)\n",
    "* installing surprise: https://github.com/NicolasHug/Surprise#installation\n",
    "* Research paper: http://courses.ischool.berkeley.edu/i290-dm/s11/SECURE/a1-koren.pdf (most of our work was inspired by this paper)\n",
    "* SVD Decomposition : https://www.youtube.com/watch?v=P5mlg91as1c\n",
    "\n",
    "<p><b>Real world/Business Objectives and constraints</b></p> \n",
    "\n",
    "<p><b>Objectives:</b></p>\n",
    "1.\tPredict the rating that a user would give to a movie that he has not yet rated.<br>\n",
    "2.\tMinimize the difference between predicted and actual rating (RMSE and MAPE).\n",
    "\n"
   ]
  },
  {
   "cell_type": "markdown",
   "metadata": {},
   "source": [
    "<p><b>Data Overview</b></p>\n",
    "<b>Data files :</b><br>\n",
    "\n",
    "1. combined_data_1.txt\n",
    "2. combined_data_2.txt\n",
    "3. combined_data_3.txt\n",
    "4. combined_data_4.txt\n",
    "5. movie_titles.csv\n",
    "  \n",
    "The first line of each file [combined_data_1.txt, combined_data_2.txt, combined_data_3.txt, combined_data_4.txt] contains the movie id followed by a colon. Each subsequent line in the file corresponds to a customerID, rating from a customer and its date."
   ]
  },
  {
   "cell_type": "markdown",
   "metadata": {},
   "source": [
    "<p style = \"font-size: 22px\"><b>Example Data Point</b></p>\n",
    "<pre>\n",
    "1:\n",
    "1488844,3,2005-09-06\n",
    "822109,5,2005-05-13\n",
    "885013,4,2005-10-19\n",
    "30878,4,2005-12-26\n",
    "823519,3,2004-05-03\n",
    "893988,3,2005-11-17\n",
    "124105,4,2004-08-05\n",
    "1248029,3,2004-04-22\n",
    "1842128,4,2004-05-09\n",
    "2238063,3,2005-05-11\n",
    "1503895,4,2005-05-19\n",
    "2207774,5,2005-06-06\n",
    "2590061,3,2004-08-12\n",
    "2442,3,2004-04-14\n",
    "543865,4,2004-05-28\n",
    "1209119,4,2004-03-23\n",
    "804919,4,2004-06-10\n",
    "1086807,3,2004-12-28\n",
    "1711859,4,2005-05-08\n",
    "372233,5,2005-11-23\n",
    "1080361,3,2005-03-28\n",
    "1245640,3,2005-12-19\n",
    "558634,4,2004-12-14\n",
    "2165002,4,2004-04-06\n",
    "1181550,3,2004-02-01\n",
    "1227322,4,2004-02-06\n",
    "427928,4,2004-02-26\n",
    "814701,5,2005-09-29\n",
    "808731,4,2005-10-31\n",
    "662870,5,2005-08-24\n",
    "337541,5,2005-03-23\n",
    "786312,3,2004-11-16\n",
    "1133214,4,2004-03-07\n",
    "1537427,4,2004-03-29\n",
    "1209954,5,2005-05-09\n",
    "2381599,3,2005-09-12\n",
    "525356,2,2004-07-11\n",
    "1910569,4,2004-04-12\n",
    "2263586,4,2004-08-20\n",
    "2421815,2,2004-02-26\n",
    "1009622,1,2005-01-19\n",
    "1481961,2,2005-05-24\n",
    "401047,4,2005-06-03\n",
    "2179073,3,2004-08-29\n",
    "1434636,3,2004-05-01\n",
    "93986,5,2005-10-06\n",
    "1308744,5,2005-10-29\n",
    "2647871,4,2005-12-30\n",
    "1905581,5,2005-08-16\n",
    "2508819,3,2004-05-18\n",
    "1578279,1,2005-05-19\n",
    "1159695,4,2005-02-15\n",
    "2588432,3,2005-03-31\n",
    "2423091,3,2005-09-12\n",
    "470232,4,2004-04-08\n",
    "2148699,2,2004-06-05\n",
    "1342007,3,2004-07-16\n",
    "466135,4,2004-07-13\n",
    "2472440,3,2005-08-13\n",
    "1283744,3,2004-04-17\n",
    "1927580,4,2004-11-08\n",
    "716874,5,2005-05-06\n",
    "4326,4,2005-10-29\n",
    "</pre>"
   ]
  },
  {
   "cell_type": "markdown",
   "metadata": {},
   "source": [
    "<p><b>Type of Machine Learning Problem</b></p>\n",
    "<p>\n",
    "For a given movie and user we need to predict the rating would be given by him/her to the movie. \n",
    "The given problem is a Recommendation problem \n",
    "It can also seen as a Regression problem \n",
    "</p>"
   ]
  },
  {
   "cell_type": "markdown",
   "metadata": {},
   "source": [
    "<p><b>Performance metric</b></p>\n",
    "1. Mean Absolute Percentage Error\n",
    "2. Root Mean Square Error\n"
   ]
  },
  {
   "cell_type": "markdown",
   "metadata": {},
   "source": [
    "## 1. Reading and Storing Data"
   ]
  },
  {
   "cell_type": "markdown",
   "metadata": {},
   "source": [
    "### Data Pre-processing"
   ]
  },
  {
   "cell_type": "code",
   "execution_count": 14,
   "metadata": {},
   "outputs": [
    {
     "name": "stdout",
     "output_type": "stream",
     "text": [
      "Reading from file: ../Data/combined_data_2.txt...\n",
      "Reading of file: ../Data/combined_data_2.txt is completed\n",
      "\n",
      "Reading from file: ../Data/combined_data_4.txt...\n",
      "Reading of file: ../Data/combined_data_4.txt is completed\n",
      "\n",
      "Total time taken for execution of this code = 0:03:48.924208\n"
     ]
    }
   ],
   "source": [
    "if not os.path.isfile(\"../Data/NetflixRatings.csv\"): \n",
    "    startTime = datetime.now()\n",
    "    data = open(\"../Data/NetflixRatings.csv\", mode = \"w\") \n",
    "    files = ['../Data/combined_data_2.txt', '../Data/combined_data_4.txt']\n",
    "    for file in files:\n",
    "        print(\"Reading from file: \"+str(file)+\"...\")\n",
    "        with open(file) as f: \n",
    "            for line in f:\n",
    "                line = line.strip()\n",
    "                if line.endswith(\":\"):\n",
    "                    movieID = line.replace(\":\", \"\")\n",
    "                else:\n",
    "                                        row = [] \n",
    "                    row = [x for x in line.split(\",\")] #custID, rating and date are separated by comma\n",
    "                    row.insert(0, movieID)\n",
    "                    data.write(\",\".join(row))\n",
    "                    data.write(\"\\n\")\n",
    "        print(\"Reading of file: \"+str(file)+\" is completed\\n\")\n",
    "    data.close()\n",
    "    print(\"Total time taken for execution of this code = \"+str(datetime.now() - startTime))"
   ]
  },
  {
   "cell_type": "code",
   "execution_count": 15,
   "metadata": {},
   "outputs": [
    {
     "name": "stdout",
     "output_type": "stream",
     "text": [
      "Time taken for execution of above code = 0:01:11.269949\n"
     ]
    }
   ],
   "source": [
    "# creating data frame from our output csv file.\n",
    "if not os.path.isfile(\"../Data/NetflixData.pkl\"):\n",
    "    startTime = datetime.now()\n",
    "    Final_Data = pd.read_csv(\"../Data/NetflixRatings.csv\", sep=\",\", names = [\"MovieID\",\"CustID\", \"Ratings\", \"Date\"])\n",
    "    Final_Data[\"Date\"] = pd.to_datetime(Final_Data[\"Date\"])\n",
    "    Final_Data.sort_values(by = \"Date\", inplace = True)\n",
    "    print(\"Time taken for execution of above code = \"+str(datetime.now() - startTime))"
   ]
  },
  {
   "cell_type": "code",
   "execution_count": 16,
   "metadata": {},
   "outputs": [],
   "source": [
    "# storing pandas dataframe as a picklefile for later use\n",
    "if not os.path.isfile(\"../Data/NetflixData.pkl\"):\n",
    "    Final_Data.to_pickle(\"../Data/NetflixData.pkl\")\n",
    "else:\n",
    "    Final_Data = pd.read_pickle(\"../Data/NetflixData.pkl\")"
   ]
  },
  {
   "cell_type": "code",
   "execution_count": 17,
   "metadata": {},
   "outputs": [
    {
     "data": {
      "text/html": [
       "<div>\n",
       "<style scoped>\n",
       "    .dataframe tbody tr th:only-of-type {\n",
       "        vertical-align: middle;\n",
       "    }\n",
       "\n",
       "    .dataframe tbody tr th {\n",
       "        vertical-align: top;\n",
       "    }\n",
       "\n",
       "    .dataframe thead th {\n",
       "        text-align: right;\n",
       "    }\n",
       "</style>\n",
       "<table border=\"1\" class=\"dataframe\">\n",
       "  <thead>\n",
       "    <tr style=\"text-align: right;\">\n",
       "      <th></th>\n",
       "      <th>MovieID</th>\n",
       "      <th>CustID</th>\n",
       "      <th>Ratings</th>\n",
       "      <th>Date</th>\n",
       "    </tr>\n",
       "  </thead>\n",
       "  <tbody>\n",
       "    <tr>\n",
       "      <th>49557332</th>\n",
       "      <td>17064</td>\n",
       "      <td>510180</td>\n",
       "      <td>2</td>\n",
       "      <td>1999-11-11</td>\n",
       "    </tr>\n",
       "    <tr>\n",
       "      <th>46370047</th>\n",
       "      <td>16465</td>\n",
       "      <td>510180</td>\n",
       "      <td>3</td>\n",
       "      <td>1999-11-11</td>\n",
       "    </tr>\n",
       "    <tr>\n",
       "      <th>22463125</th>\n",
       "      <td>8357</td>\n",
       "      <td>510180</td>\n",
       "      <td>4</td>\n",
       "      <td>1999-11-11</td>\n",
       "    </tr>\n",
       "    <tr>\n",
       "      <th>35237815</th>\n",
       "      <td>14660</td>\n",
       "      <td>510180</td>\n",
       "      <td>2</td>\n",
       "      <td>1999-11-11</td>\n",
       "    </tr>\n",
       "    <tr>\n",
       "      <th>21262258</th>\n",
       "      <td>8079</td>\n",
       "      <td>510180</td>\n",
       "      <td>2</td>\n",
       "      <td>1999-11-11</td>\n",
       "    </tr>\n",
       "  </tbody>\n",
       "</table>\n",
       "</div>"
      ],
      "text/plain": [
       "          MovieID  CustID  Ratings       Date\n",
       "49557332    17064  510180        2 1999-11-11\n",
       "46370047    16465  510180        3 1999-11-11\n",
       "22463125     8357  510180        4 1999-11-11\n",
       "35237815    14660  510180        2 1999-11-11\n",
       "21262258     8079  510180        2 1999-11-11"
      ]
     },
     "execution_count": 17,
     "metadata": {},
     "output_type": "execute_result"
    }
   ],
   "source": [
    "Final_Data.head()"
   ]
  },
  {
   "cell_type": "code",
   "execution_count": 18,
   "metadata": {},
   "outputs": [
    {
     "data": {
      "text/plain": [
       "count    5.382511e+07\n",
       "mean     3.606058e+00\n",
       "std      1.082326e+00\n",
       "min      1.000000e+00\n",
       "25%      3.000000e+00\n",
       "50%      4.000000e+00\n",
       "75%      4.000000e+00\n",
       "max      5.000000e+00\n",
       "Name: Ratings, dtype: float64"
      ]
     },
     "execution_count": 18,
     "metadata": {},
     "output_type": "execute_result"
    }
   ],
   "source": [
    "Final_Data.describe()[\"Ratings\"]"
   ]
  },
  {
   "cell_type": "markdown",
   "metadata": {},
   "source": [
    "### Checking for NaN"
   ]
  },
  {
   "cell_type": "code",
   "execution_count": 19,
   "metadata": {},
   "outputs": [
    {
     "name": "stdout",
     "output_type": "stream",
     "text": [
      "Number of NaN values = MovieID    0\n",
      "CustID     0\n",
      "Ratings    0\n",
      "Date       0\n",
      "dtype: int64\n"
     ]
    }
   ],
   "source": [
    "print(\"Number of NaN values = \"+str(Final_Data.isnull().sum()))"
   ]
  },
  {
   "cell_type": "markdown",
   "metadata": {},
   "source": [
    "### Removing Duplicates"
   ]
  },
  {
   "cell_type": "code",
   "execution_count": 20,
   "metadata": {},
   "outputs": [
    {
     "name": "stdout",
     "output_type": "stream",
     "text": [
      "Number of duplicate rows = 0\n"
     ]
    }
   ],
   "source": [
    "duplicates = Final_Data.duplicated([\"MovieID\",\"CustID\", \"Ratings\"])\n",
    "print(\"Number of duplicate rows = \"+str(duplicates.sum()))"
   ]
  },
  {
   "cell_type": "markdown",
   "metadata": {},
   "source": [
    "### Basic Statistics"
   ]
  },
  {
   "cell_type": "code",
   "execution_count": 22,
   "metadata": {},
   "outputs": [
    {
     "name": "stdout",
     "output_type": "stream",
     "text": [
      "Total Data:\n",
      "Total number of movie ratings = 53825114\n",
      "Number of unique users = 478723\n",
      "Number of unique movies = 9114\n"
     ]
    }
   ],
   "source": [
    "print(\"Total Data:\")\n",
    "print(\"Total number of movie ratings = \"+str(Final_Data.shape[0]))\n",
    "print(\"Number of unique users = \"+str(len(np.unique(Final_Data[\"CustID\"]))))\n",
    "print(\"Number of unique movies = \"+str(len(np.unique(Final_Data[\"MovieID\"]))))"
   ]
  },
  {
   "cell_type": "markdown",
   "metadata": {},
   "source": [
    "### Spliting data into Train and Test(80:20)"
   ]
  },
  {
   "cell_type": "code",
   "execution_count": 2,
   "metadata": {},
   "outputs": [],
   "source": [
    "if not os.path.isfile(\"../Data/TrainData.pkl\"):\n",
    "    Final_Data.iloc[:int(Final_Data.shape[0]*0.800)].to_pickle(\"../Data/TrainData.pkl\")\n",
    "    Train_Data = pd.read_pickle(\"../Data/TrainData.pkl\")\n",
    "    Train_Data.reset_index(drop = True, inplace = True)\n",
    "else:\n",
    "    Train_Data = pd.read_pickle(\"../Data/TrainData.pkl\")\n",
    "    Train_Data.reset_index(drop = True, inplace = True)\n",
    "\n",
    "if not os.path.isfile(\"../Data/TestData.pkl\"):\n",
    "    Final_Data.iloc[int(Final_Data.shape[0]*0.80):].to_pickle(\"../Data/TestData.pkl\")\n",
    "    Test_Data = pd.read_pickle(\"../Data/TestData.pkl\")\n",
    "    Test_Data.reset_index(drop = True, inplace = True)\n",
    "else:\n",
    "    Test_Data = pd.read_pickle(\"../Data/TestData.pkl\")\n",
    "    Test_Data.reset_index(drop = True, inplace = True)"
   ]
  },
  {
   "cell_type": "markdown",
   "metadata": {},
   "source": [
    "### Basic Statistics in Train data"
   ]
  },
  {
   "cell_type": "code",
   "execution_count": 3,
   "metadata": {},
   "outputs": [
    {
     "data": {
      "text/html": [
       "<div>\n",
       "<style scoped>\n",
       "    .dataframe tbody tr th:only-of-type {\n",
       "        vertical-align: middle;\n",
       "    }\n",
       "\n",
       "    .dataframe tbody tr th {\n",
       "        vertical-align: top;\n",
       "    }\n",
       "\n",
       "    .dataframe thead th {\n",
       "        text-align: right;\n",
       "    }\n",
       "</style>\n",
       "<table border=\"1\" class=\"dataframe\">\n",
       "  <thead>\n",
       "    <tr style=\"text-align: right;\">\n",
       "      <th></th>\n",
       "      <th>MovieID</th>\n",
       "      <th>CustID</th>\n",
       "      <th>Ratings</th>\n",
       "      <th>Date</th>\n",
       "    </tr>\n",
       "  </thead>\n",
       "  <tbody>\n",
       "    <tr>\n",
       "      <th>0</th>\n",
       "      <td>17064</td>\n",
       "      <td>510180</td>\n",
       "      <td>2</td>\n",
       "      <td>1999-11-11</td>\n",
       "    </tr>\n",
       "    <tr>\n",
       "      <th>1</th>\n",
       "      <td>16465</td>\n",
       "      <td>510180</td>\n",
       "      <td>3</td>\n",
       "      <td>1999-11-11</td>\n",
       "    </tr>\n",
       "    <tr>\n",
       "      <th>2</th>\n",
       "      <td>8357</td>\n",
       "      <td>510180</td>\n",
       "      <td>4</td>\n",
       "      <td>1999-11-11</td>\n",
       "    </tr>\n",
       "    <tr>\n",
       "      <th>3</th>\n",
       "      <td>14660</td>\n",
       "      <td>510180</td>\n",
       "      <td>2</td>\n",
       "      <td>1999-11-11</td>\n",
       "    </tr>\n",
       "    <tr>\n",
       "      <th>4</th>\n",
       "      <td>8079</td>\n",
       "      <td>510180</td>\n",
       "      <td>2</td>\n",
       "      <td>1999-11-11</td>\n",
       "    </tr>\n",
       "  </tbody>\n",
       "</table>\n",
       "</div>"
      ],
      "text/plain": [
       "   MovieID  CustID  Ratings       Date\n",
       "0    17064  510180        2 1999-11-11\n",
       "1    16465  510180        3 1999-11-11\n",
       "2     8357  510180        4 1999-11-11\n",
       "3    14660  510180        2 1999-11-11\n",
       "4     8079  510180        2 1999-11-11"
      ]
     },
     "execution_count": 3,
     "metadata": {},
     "output_type": "execute_result"
    }
   ],
   "source": [
    "Train_Data.head()"
   ]
  },
  {
   "cell_type": "code",
   "execution_count": 24,
   "metadata": {},
   "outputs": [
    {
     "name": "stdout",
     "output_type": "stream",
     "text": [
      "Total Train Data:\n",
      "Total number of movie ratings in train data = 43060091\n",
      "Number of unique users in train data = 401901\n",
      "Number of unique movies in train data = 8931\n",
      "Highest value of a User ID = 2649429\n",
      "Highest value of a Movie ID = 17770\n"
     ]
    }
   ],
   "source": [
    "print(\"Total Train Data:\")\n",
    "print(\"Total number of movie ratings in train data = \"+str(Train_Data.shape[0]))\n",
    "print(\"Number of unique users in train data = \"+str(len(np.unique(Train_Data[\"CustID\"]))))\n",
    "print(\"Number of unique movies in train data = \"+str(len(np.unique(Train_Data[\"MovieID\"]))))\n",
    "print(\"Highest value of a User ID = \"+str(max(Train_Data[\"CustID\"].values)))\n",
    "print(\"Highest value of a Movie ID = \"+str(max(Train_Data[\"MovieID\"].values)))"
   ]
  },
  {
   "cell_type": "markdown",
   "metadata": {},
   "source": [
    "### Basic Statistics in Test data"
   ]
  },
  {
   "cell_type": "code",
   "execution_count": 5,
   "metadata": {},
   "outputs": [
    {
     "data": {
      "text/html": [
       "<div>\n",
       "<style scoped>\n",
       "    .dataframe tbody tr th:only-of-type {\n",
       "        vertical-align: middle;\n",
       "    }\n",
       "\n",
       "    .dataframe tbody tr th {\n",
       "        vertical-align: top;\n",
       "    }\n",
       "\n",
       "    .dataframe thead th {\n",
       "        text-align: right;\n",
       "    }\n",
       "</style>\n",
       "<table border=\"1\" class=\"dataframe\">\n",
       "  <thead>\n",
       "    <tr style=\"text-align: right;\">\n",
       "      <th></th>\n",
       "      <th>MovieID</th>\n",
       "      <th>CustID</th>\n",
       "      <th>Ratings</th>\n",
       "      <th>Date</th>\n",
       "    </tr>\n",
       "  </thead>\n",
       "  <tbody>\n",
       "    <tr>\n",
       "      <th>0</th>\n",
       "      <td>17405</td>\n",
       "      <td>1557557</td>\n",
       "      <td>4</td>\n",
       "      <td>2005-08-09</td>\n",
       "    </tr>\n",
       "    <tr>\n",
       "      <th>1</th>\n",
       "      <td>13462</td>\n",
       "      <td>2017421</td>\n",
       "      <td>4</td>\n",
       "      <td>2005-08-09</td>\n",
       "    </tr>\n",
       "    <tr>\n",
       "      <th>2</th>\n",
       "      <td>6475</td>\n",
       "      <td>934053</td>\n",
       "      <td>4</td>\n",
       "      <td>2005-08-09</td>\n",
       "    </tr>\n",
       "    <tr>\n",
       "      <th>3</th>\n",
       "      <td>6007</td>\n",
       "      <td>1156578</td>\n",
       "      <td>5</td>\n",
       "      <td>2005-08-09</td>\n",
       "    </tr>\n",
       "    <tr>\n",
       "      <th>4</th>\n",
       "      <td>5085</td>\n",
       "      <td>2311323</td>\n",
       "      <td>4</td>\n",
       "      <td>2005-08-09</td>\n",
       "    </tr>\n",
       "  </tbody>\n",
       "</table>\n",
       "</div>"
      ],
      "text/plain": [
       "   MovieID   CustID  Ratings       Date\n",
       "0    17405  1557557        4 2005-08-09\n",
       "1    13462  2017421        4 2005-08-09\n",
       "2     6475   934053        4 2005-08-09\n",
       "3     6007  1156578        5 2005-08-09\n",
       "4     5085  2311323        4 2005-08-09"
      ]
     },
     "execution_count": 5,
     "metadata": {},
     "output_type": "execute_result"
    }
   ],
   "source": [
    "Test_Data.head()"
   ]
  },
  {
   "cell_type": "code",
   "execution_count": 25,
   "metadata": {},
   "outputs": [
    {
     "name": "stdout",
     "output_type": "stream",
     "text": [
      "Total Test Data:\n",
      "Total number of movie ratings in Test data = 10765023\n",
      "Number of unique users in Test data = 327355\n",
      "Number of unique movies in Test data = 9107\n",
      "Highest value of a User ID = 2649429\n",
      "Highest value of a Movie ID = 17770\n"
     ]
    }
   ],
   "source": [
    "print(\"Total Test Data:\")\n",
    "print(\"Total number of movie ratings in Test data = \"+str(Test_Data.shape[0]))\n",
    "print(\"Number of unique users in Test data = \"+str(len(np.unique(Test_Data[\"CustID\"]))))\n",
    "print(\"Number of unique movies in Test data = \"+str(len(np.unique(Test_Data[\"MovieID\"]))))\n",
    "print(\"Highest value of a User ID = \"+str(max(Test_Data[\"CustID\"].values)))\n",
    "print(\"Highest value of a Movie ID = \"+str(max(Test_Data[\"MovieID\"].values)))"
   ]
  },
  {
   "cell_type": "markdown",
   "metadata": {},
   "source": [
    "## 2. Exploratory Data Analysis on Train Data"
   ]
  },
  {
   "cell_type": "code",
   "execution_count": 7,
   "metadata": {},
   "outputs": [],
   "source": [
    "def changingLabels(number):\n",
    "    return str(number/10**6) + \"M\""
   ]
  },
  {
   "cell_type": "code",
   "execution_count": 115,
   "metadata": {},
   "outputs": [
    {
     "data": {
      "image/png": "[encoded data removed]",
      "text/plain": [
       "<Figure size 864x576 with 1 Axes>"
      ]
     },
     "metadata": {},
     "output_type": "display_data"
    }
   ],
   "source": [
    "plt.figure(figsize = (12, 8))\n",
    "ax = sns.countplot(x=\"Ratings\", data=Train_Data)\n",
    "\n",
    "ax.set_yticklabels([changingLabels(num) for num in ax.get_yticks()])\n",
    "\n",
    "plt.tick_params(labelsize = 15)\n",
    "plt.title(\"Distribution of Ratings in train data\", fontsize = 20)\n",
    "plt.xlabel(\"Ratings\", fontsize = 20)\n",
    "plt.ylabel(\"Number of Ratings(Millions)\", fontsize = 20)\n",
    "plt.show()"
   ]
  },
  {
   "cell_type": "code",
   "execution_count": 10,
   "metadata": {},
   "outputs": [],
   "source": [
    "Train_Data[\"DayOfWeek\"] = Train_Data.Date.dt.weekday_name"
   ]
  },
  {
   "cell_type": "code",
   "execution_count": 11,
   "metadata": {},
   "outputs": [
    {
     "data": {
      "text/html": [
       "<div>\n",
       "<style scoped>\n",
       "    .dataframe tbody tr th:only-of-type {\n",
       "        vertical-align: middle;\n",
       "    }\n",
       "\n",
       "    .dataframe tbody tr th {\n",
       "        vertical-align: top;\n",
       "    }\n",
       "\n",
       "    .dataframe thead th {\n",
       "        text-align: right;\n",
       "    }\n",
       "</style>\n",
       "<table border=\"1\" class=\"dataframe\">\n",
       "  <thead>\n",
       "    <tr style=\"text-align: right;\">\n",
       "      <th></th>\n",
       "      <th>MovieID</th>\n",
       "      <th>CustID</th>\n",
       "      <th>Ratings</th>\n",
       "      <th>Date</th>\n",
       "      <th>DayOfWeek</th>\n",
       "    </tr>\n",
       "  </thead>\n",
       "  <tbody>\n",
       "    <tr>\n",
       "      <th>43060086</th>\n",
       "      <td>8370</td>\n",
       "      <td>2570992</td>\n",
       "      <td>3</td>\n",
       "      <td>2005-08-09</td>\n",
       "      <td>Tuesday</td>\n",
       "    </tr>\n",
       "    <tr>\n",
       "      <th>43060087</th>\n",
       "      <td>17324</td>\n",
       "      <td>60769</td>\n",
       "      <td>4</td>\n",
       "      <td>2005-08-09</td>\n",
       "      <td>Tuesday</td>\n",
       "    </tr>\n",
       "    <tr>\n",
       "      <th>43060088</th>\n",
       "      <td>17174</td>\n",
       "      <td>1831297</td>\n",
       "      <td>4</td>\n",
       "      <td>2005-08-09</td>\n",
       "      <td>Tuesday</td>\n",
       "    </tr>\n",
       "    <tr>\n",
       "      <th>43060089</th>\n",
       "      <td>5765</td>\n",
       "      <td>1779412</td>\n",
       "      <td>4</td>\n",
       "      <td>2005-08-09</td>\n",
       "      <td>Tuesday</td>\n",
       "    </tr>\n",
       "    <tr>\n",
       "      <th>43060090</th>\n",
       "      <td>16922</td>\n",
       "      <td>1367773</td>\n",
       "      <td>5</td>\n",
       "      <td>2005-08-09</td>\n",
       "      <td>Tuesday</td>\n",
       "    </tr>\n",
       "  </tbody>\n",
       "</table>\n",
       "</div>"
      ],
      "text/plain": [
       "          MovieID   CustID  Ratings       Date DayOfWeek\n",
       "43060086     8370  2570992        3 2005-08-09   Tuesday\n",
       "43060087    17324    60769        4 2005-08-09   Tuesday\n",
       "43060088    17174  1831297        4 2005-08-09   Tuesday\n",
       "43060089     5765  1779412        4 2005-08-09   Tuesday\n",
       "43060090    16922  1367773        5 2005-08-09   Tuesday"
      ]
     },
     "execution_count": 11,
     "metadata": {},
     "output_type": "execute_result"
    }
   ],
   "source": [
    "Train_Data.tail()"
   ]
  },
  {
   "cell_type": "markdown",
   "metadata": {},
   "source": [
    "### Number of Ratings per month"
   ]
  },
  {
   "cell_type": "code",
   "execution_count": 28,
   "metadata": {},
   "outputs": [
    {
     "data": {
      "image/png": "[encoded data removed]",
      "text/plain": [
       "<Figure size 720x576 with 1 Axes>"
      ]
     },
     "metadata": {},
     "output_type": "display_data"
    }
   ],
   "source": [
    "plt.figure(figsize = (10,8))\n",
    "ax = Train_Data.resample(\"M\", on = \"Date\")[\"Ratings\"].count().plot()\n",
    "ax.set_yticklabels([changingLabels(num) for num in ax.get_yticks()])\n",
    "ax.set_title(\"Number of Ratings per month\", fontsize = 20)\n",
    "ax.set_xlabel(\"Date\", fontsize = 20)\n",
    "ax.set_ylabel(\"Number of Ratings Per Month(Millions)\", fontsize = 20)\n",
    "plt.tick_params(labelsize = 15)\n",
    "plt.show()"
   ]
  },
  {
   "cell_type": "code",
   "execution_count": 104,
   "metadata": {},
   "outputs": [],
   "source": [
    "#Train_Data.resample(\"M\", on = \"Date\")[\"Ratings\"].count()"
   ]
  },
  {
   "cell_type": "markdown",
   "metadata": {},
   "source": [
    "### Analysis of Ratings given by user"
   ]
  },
  {
   "cell_type": "code",
   "execution_count": 4,
   "metadata": {},
   "outputs": [],
   "source": [
    "no_of_rated_movies_per_user = Train_Data.groupby(by = \"CustID\")[\"Ratings\"].count().sort_values(ascending = False)"
   ]
  },
  {
   "cell_type": "code",
   "execution_count": 86,
   "metadata": {
    "scrolled": false
   },
   "outputs": [
    {
     "data": {
      "text/plain": [
       "CustID\n",
       "305344     8779\n",
       "2439493    8126\n",
       "387418     7884\n",
       "1639792    4983\n",
       "1461435    4846\n",
       "Name: Ratings, dtype: int64"
      ]
     },
     "execution_count": 86,
     "metadata": {},
     "output_type": "execute_result"
    }
   ],
   "source": [
    "no_of_rated_movies_per_user.head()"
   ]
  },
  {
   "cell_type": "code",
   "execution_count": 124,
   "metadata": {},
   "outputs": [
    {
     "data": {
      "image/png": "[encoded data removed]",
      "text/plain": [
       "<Figure size 1008x504 with 2 Axes>"
      ]
     },
     "metadata": {},
     "output_type": "display_data"
    }
   ],
   "source": [
    "fig, axes = plt.subplots(nrows = 1, ncols = 2, figsize=(14,7))\n",
    "\n",
    "sns.kdeplot(no_of_rated_movies_per_user.values, shade = True, ax = axes[0])\n",
    "axes[0].set_title(\"PDF\", fontsize = 18)\n",
    "axes[0].set_xlabel(\"Number of Ratings by user\", fontsize = 18)\n",
    "axes[0].tick_params(labelsize = 15)\n",
    "\n",
    "sns.kdeplot(no_of_rated_movies_per_user.values, shade = True, cumulative = True, ax = axes[1])\n",
    "axes[1].set_title(\"CDF\", fontsize = 18)\n",
    "axes[1].set_xlabel(\"Number of Ratings by user\", fontsize = 18)\n",
    "axes[1].tick_params(labelsize = 15)\n",
    "\n",
    "fig.subplots_adjust(wspace=2)\n",
    "plt.tight_layout()\n",
    "plt.show()"
   ]
  },
  {
   "cell_type": "markdown",
   "metadata": {},
   "source": [
    "* Above PDF graph shows that almost all of the users give very few ratings. There are very few users who's ratings count is high.\n",
    "* Similarly, above CDF graph shows that almost 99% of users give very few ratings."
   ]
  },
  {
   "cell_type": "code",
   "execution_count": 126,
   "metadata": {},
   "outputs": [
    {
     "name": "stdout",
     "output_type": "stream",
     "text": [
      "Information about movie ratings grouped by users:\n"
     ]
    },
    {
     "data": {
      "text/plain": [
       "count    401901.00000\n",
       "mean        107.14104\n",
       "std         155.05350\n",
       "min           1.00000\n",
       "25%          19.00000\n",
       "50%          48.00000\n",
       "75%         133.00000\n",
       "max        8779.00000\n",
       "Name: Ratings, dtype: float64"
      ]
     },
     "execution_count": 126,
     "metadata": {},
     "output_type": "execute_result"
    }
   ],
   "source": [
    "print(\"Information about movie ratings grouped by users:\")\n",
    "no_of_rated_movies_per_user.describe()"
   ]
  },
  {
   "cell_type": "code",
   "execution_count": 130,
   "metadata": {},
   "outputs": [],
   "source": [
    "# no_of_rated_movies_per_user.describe()[\"75%\"]"
   ]
  },
  {
   "cell_type": "code",
   "execution_count": 161,
   "metadata": {},
   "outputs": [],
   "source": [
    "quantiles = no_of_rated_movies_per_user.quantile(np.arange(0,1.01,0.01))"
   ]
  },
  {
   "cell_type": "code",
   "execution_count": 231,
   "metadata": {},
   "outputs": [
    {
     "data": {
      "text/plain": [
       "0.00       1\n",
       "0.05       4\n",
       "0.10       8\n",
       "0.15      12\n",
       "0.20      15\n",
       "0.25      19\n",
       "0.30      23\n",
       "0.35      27\n",
       "0.40      33\n",
       "0.45      40\n",
       "0.50      48\n",
       "0.55      59\n",
       "0.60      72\n",
       "0.65      88\n",
       "0.70     108\n",
       "0.75     133\n",
       "0.80     166\n",
       "0.85     213\n",
       "0.90     281\n",
       "0.95     404\n",
       "1.00    8779\n",
       "Name: Ratings, dtype: int64"
      ]
     },
     "execution_count": 231,
     "metadata": {},
     "output_type": "execute_result"
    }
   ],
   "source": [
    "quantiles[::5]"
   ]
  },
  {
   "cell_type": "code",
   "execution_count": 233,
   "metadata": {},
   "outputs": [
    {
     "name": "stdout",
     "output_type": "stream",
     "text": [
      "Total number of ratings below 75th percentile = 301857\n",
      "Total number of ratings above 75th percentile = 100044\n"
     ]
    }
   ],
   "source": [
    "print(\"Total number of ratings below 75th percentile = \"+str(sum(no_of_rated_movies_per_user.values<=133)))\n",
    "print(\"Total number of ratings above 75th percentile = \"+str(sum(no_of_rated_movies_per_user.values>133)))"
   ]
  },
  {
   "cell_type": "markdown",
   "metadata": {},
   "source": [
    "### Analysis of Ratings Per Movie"
   ]
  },
  {
   "cell_type": "code",
   "execution_count": 234,
   "metadata": {},
   "outputs": [],
   "source": [
    "no_of_ratings_per_movie = Train_Data.groupby(by = \"MovieID\")[\"Ratings\"].count().sort_values(ascending = False)"
   ]
  },
  {
   "cell_type": "code",
   "execution_count": 248,
   "metadata": {},
   "outputs": [
    {
     "data": {
      "image/png": "[encoded data removed]",
      "text/plain": [
       "<Figure size 864x432 with 1 Axes>"
      ]
     },
     "metadata": {},
     "output_type": "display_data"
    }
   ],
   "source": [
    "fig = plt.figure(figsize = (12, 6))\n",
    "axes = fig.add_axes([0.1,0.1,1,1])\n",
    "plt.title(\"Number of Ratings Per Movie\", fontsize = 20)\n",
    "plt.xlabel(\"Movie\", fontsize = 20)\n",
    "plt.ylabel(\"Count of Ratings\", fontsize = 20)\n",
    "plt.plot(no_of_ratings_per_movie.values)\n",
    "plt.tick_params(labelsize = 15)\n",
    "axes.set_xticklabels([])\n",
    "plt.show()"
   ]
  },
  {
   "cell_type": "markdown",
   "metadata": {},
   "source": [
    "<b>It is very skewed</b>\n",
    "<p>It clearly shows that there are some movies which are very popular and were rated by many users as comapared to other movies</p>"
   ]
  },
  {
   "cell_type": "code",
   "execution_count": 15,
   "metadata": {},
   "outputs": [
    {
     "data": {
      "image/png": "[encoded data removed]",
      "text/plain": [
       "<Figure size 864x576 with 1 Axes>"
      ]
     },
     "metadata": {},
     "output_type": "display_data"
    }
   ],
   "source": [
    "fig = plt.figure(figsize = (12, 8))\n",
    "\n",
    "axes = sns.boxplot(x = \"DayOfWeek\", y = \"Ratings\", data = Train_Data)\n",
    "axes.set_title(\"Day of week VS Number of Ratings\", fontsize = 20)\n",
    "axes.set_xlabel(\"Day of Week\", fontsize = 20)\n",
    "axes.set_ylabel(\"Number of Ratings\", fontsize = 20)\n",
    "axes.tick_params(labelsize = 15)\n",
    "\n",
    "plt.show()"
   ]
  },
  {
   "cell_type": "code",
   "execution_count": 14,
   "metadata": {},
   "outputs": [
    {
     "name": "stdout",
     "output_type": "stream",
     "text": [
      "Average Ratings on Day of Weeks\n",
      "DayOfWeek\n",
      "Friday       3.589555\n",
      "Monday       3.577235\n",
      "Saturday     3.595120\n",
      "Sunday       3.596637\n",
      "Thursday     3.583570\n",
      "Tuesday      3.574852\n",
      "Wednesday    3.585002\n",
      "Name: Ratings, dtype: float64\n"
     ]
    }
   ],
   "source": [
    "average_ratings_dayofweek = Train_Data.groupby(by = \"DayOfWeek\")[\"Ratings\"].mean()\n",
    "print(\"Average Ratings on Day of Weeks\")\n",
    "print(average_ratings_dayofweek)"
   ]
  },
  {
   "cell_type": "code",
   "execution_count": 4,
   "metadata": {},
   "outputs": [
    {
     "name": "stdout",
     "output_type": "stream",
     "text": [
      "Creating USER_ITEM sparse matrix for test Data\n",
      "Sparse Data is already present in your disk, no need to create further. Loading Sparse Matrix\n",
      "Shape of Test Sparse Matrix = (2649430, 17771)\n",
      "0:00:00.979906\n"
     ]
    }
   ],
   "source": [
    "startTime = datetime.now()\n",
    "print(\"Creating USER_ITEM sparse matrix for test Data\")\n",
    "if os.path.isfile(\"../Data/TestUISparseData.npz\"):\n",
    "    print(\"Sparse Data is already present in your disk, no need to create further. Loading Sparse Matrix\")\n",
    "    TestUISparseData = sparse.load_npz(\"../Data/TestUISparseData.npz\")\n",
    "    print(\"Shape of Test Sparse Matrix = \"+str(TestUISparseData.shape))\n",
    "else:\n",
    "    print(\"We are creating sparse data\")\n",
    "    TestUISparseData = sparse.csr_matrix((Test_Data.Ratings, (Test_Data.CustID, Test_Data.MovieID)))\n",
    "    print(\"Creation done. Shape of sparse matrix = \"+str(TestUISparseData.shape))\n",
    "    print(\"Saving it into disk for furthur usage.\")\n",
    "    sparse.save_npz(\"../Data/TestUISparseData.npz\", TestUISparseData)\n",
    "    print(\"Done\\n\")\n",
    "\n",
    "print(datetime.now() - startTime)"
   ]
  },
  {
   "cell_type": "code",
   "execution_count": 26,
   "metadata": {},
   "outputs": [
    {
     "name": "stdout",
     "output_type": "stream",
     "text": [
      "Sparsity Of Train matrix : 99.90854433187319% \n"
     ]
    }
   ],
   "source": [
    "rows,cols = TrainUISparseData.shape\n",
    "presentElements = TrainUISparseData.count_nonzero()\n",
    "\n",
    "print(\"Sparsity Of Train matrix : {}% \".format((1-(presentElements/(rows*cols)))*100))"
   ]
  },
  {
   "cell_type": "code",
   "execution_count": 27,
   "metadata": {},
   "outputs": [
    {
     "name": "stdout",
     "output_type": "stream",
     "text": [
      "Sparsity Of Test matrix : 99.97713608243731% \n"
     ]
    }
   ],
   "source": [
    "rows,cols = TestUISparseData.shape\n",
    "presentElements = TestUISparseData.count_nonzero()\n",
    "\n",
    "print(\"Sparsity Of Test matrix : {}% \".format((1-(presentElements/(rows*cols)))*100))"
   ]
  },
  {
   "cell_type": "markdown",
   "metadata": {},
   "source": [
    "### Finding Global average of all movie ratings, Average rating per user, and Average rating per movie"
   ]
  },
  {
   "cell_type": "code",
   "execution_count": 5,
   "metadata": {},
   "outputs": [],
   "source": [
    "ef getAverageRatings(sparseMatrix, if_user):\n",
    "    ax = 1 if if_user else 0\n",
    "    #axis = 1 means rows and axis = 0 means columns \n",
    "    sumOfRatings = sparseMatrix.sum(axis = ax).A1  #this will give an array of sum of all the ratings of user if axis = 1 else \n",
    "    #sum of all the ratings of movies if axis = 0\n",
    "    noOfRatings = (sparseMatrix!=0).sum(axis = ax).A1  #this will give a boolean True or False array, and True means 1 and False \n",
    "    #means 0, and further we are summing it to get the count of all the non-zero cells means length of non-zero cells\n",
    "    rows, cols = sparseMatrix.shape\n",
    "    averageRatings = {i: sumOfRatings[i]/noOfRatings[i] for i in range(rows if if_user else cols) if noOfRatings[i]!=0}\n",
    "    return averageRatings"
   ]
  },
  {
   "cell_type": "markdown",
   "metadata": {},
   "source": [
    "### Global Average Rating"
   ]
  },
  {
   "cell_type": "code",
   "execution_count": 57,
   "metadata": {},
   "outputs": [
    {
     "name": "stdout",
     "output_type": "stream",
     "text": [
      "Global Average Rating 3.5844935859517806\n"
     ]
    }
   ],
   "source": [
    "Global_Average_Rating = TrainUISparseData.sum()/TrainUISparseData.count_nonzero()\n",
    "print(\"Global Average Rating {}\".format(Global_Average_Rating))"
   ]
  },
  {
   "cell_type": "markdown",
   "metadata": {},
   "source": [
    "### Average Rating Per User"
   ]
  },
  {
   "cell_type": "code",
   "execution_count": 58,
   "metadata": {},
   "outputs": [],
   "source": [
    "AvgRatingUser = getAverageRatings(TrainUISparseData, True)"
   ]
  },
  {
   "cell_type": "code",
   "execution_count": 62,
   "metadata": {},
   "outputs": [
    {
     "name": "stdout",
     "output_type": "stream",
     "text": [
      "Average rating of user 25 = 3.0\n"
     ]
    }
   ],
   "source": [
    "print(\"Average rating of user 25 = {}\".format(AvgRatingUser[25]))"
   ]
  },
  {
   "cell_type": "markdown",
   "metadata": {},
   "source": [
    "### Average Rating Per Movie"
   ]
  },
  {
   "cell_type": "code",
   "execution_count": 63,
   "metadata": {},
   "outputs": [],
   "source": [
    "AvgRatingMovie = getAverageRatings(TrainUISparseData, False)"
   ]
  },
  {
   "cell_type": "code",
   "execution_count": 119,
   "metadata": {},
   "outputs": [
    {
     "name": "stdout",
     "output_type": "stream",
     "text": [
      "Average rating of movie 4500 = 3.28\n"
     ]
    }
   ],
   "source": [
    "print(\"Average rating of movie 4500 = {}\".format(AvgRatingMovie[4500]))"
   ]
  },
  {
   "cell_type": "markdown",
   "metadata": {},
   "source": [
    "### Creating Sample Sparse Matrix for Train Data"
   ]
  },
  {
   "cell_type": "code",
   "execution_count": 7,
   "metadata": {},
   "outputs": [
    {
     "name": "stdout",
     "output_type": "stream",
     "text": [
      "File is already present in the disk. Loading the file...\n",
      "File loading done.\n",
      "Shape of Train Sample Sparse Matrix = (2649117, 17764)\n"
     ]
    }
   ],
   "source": [
    "path = \"../Data/TrainUISparseData_Sample.npz\"\n",
    "if not os.path.isfile(path):\n",
    "    print(\"Sample sparse matrix is not present in the disk. We are creating it...\")\n",
    "    train_sample_sparse = get_sample_sparse_matrix(TrainUISparseData, 4000, 400)\n",
    "else:\n",
    "    print(\"File is already present in the disk. Loading the file...\")\n",
    "    train_sample_sparse = sparse.load_npz(path)\n",
    "    print(\"File loading done.\")\n",
    "    print(\"Shape of Train Sample Sparse Matrix = \"+str(train_sample_sparse.shape))"
   ]
  },
  {
   "cell_type": "markdown",
   "metadata": {},
   "source": [
    "### Creating Sample Sparse Matrix for Test Data"
   ]
  },
  {
   "cell_type": "code",
   "execution_count": 8,
   "metadata": {},
   "outputs": [
    {
     "name": "stdout",
     "output_type": "stream",
     "text": [
      "File is already present in the disk. Loading the file...\n",
      "File loading done.\n",
      "Shape of Test Sample Sparse Matrix = (2647588, 17689)\n"
     ]
    }
   ],
   "source": [
    "path = \"../Data/TestUISparseData_Sample.npz\"\n",
    "if not os.path.isfile(path):\n",
    "    print(\"Sample sparse matrix is not present in the disk. We are creating it...\")\n",
    "    test_sample_sparse = get_sample_sparse_matrix(TestUISparseData, 2000, 200)\n",
    "else:\n",
    "    print(\"File is already present in the disk. Loading the file...\")\n",
    "    test_sample_sparse = sparse.load_npz(path)\n",
    "    print(\"File loading done.\")\n",
    "    print(\"Shape of Test Sample Sparse Matrix = \"+str(test_sample_sparse.shape))"
   ]
  },
  {
   "cell_type": "markdown",
   "metadata": {},
   "source": [
    "### Finding Global Average of all movie ratings, Average rating per User, and Average rating per Movie (from sampled train)"
   ]
  },
  {
   "cell_type": "code",
   "execution_count": 56,
   "metadata": {},
   "outputs": [
    {
     "name": "stdout",
     "output_type": "stream",
     "text": [
      "Global average of all movies ratings in Train Sample Sparse is 3.58\n"
     ]
    }
   ],
   "source": [
    "print(\"Global average of all movies ratings in Train Sample Sparse is {}\".format(np.round((train_sample_sparse.sum()/train_sample_sparse.count_nonzero()), 2)))"
   ]
  },
  {
   "cell_type": "markdown",
   "metadata": {},
   "source": [
    "### Finding Average of all movie ratings"
   ]
  },
  {
   "cell_type": "code",
   "execution_count": 121,
   "metadata": {},
   "outputs": [
    {
     "name": "stdout",
     "output_type": "stream",
     "text": [
      "Average move rating for movie 14890 is 3.2870967741935484\n"
     ]
    }
   ],
   "source": [
    "globalAvgMovies = getAverageRatings(train_sample_sparse, False)\n",
    "print(\"Average move rating for movie 14890 is {}\".format(globalAvgMovies[14890]))"
   ]
  },
  {
   "cell_type": "markdown",
   "metadata": {},
   "source": [
    "### Finding Average rating per User"
   ]
  },
  {
   "cell_type": "code",
   "execution_count": 122,
   "metadata": {},
   "outputs": [
    {
     "name": "stdout",
     "output_type": "stream",
     "text": [
      "Average user rating for user 16879 is 3.738095238095238\n"
     ]
    }
   ],
   "source": [
    "globalAvgUsers = getAverageRatings(train_sample_sparse, True)\n",
    "print(\"Average user rating for user 16879 is {}\".format(globalAvgMovies[16879]))"
   ]
  },
  {
   "cell_type": "markdown",
   "metadata": {},
   "source": [
    "### Featurizing data"
   ]
  },
  {
   "cell_type": "code",
   "execution_count": 10,
   "metadata": {},
   "outputs": [
    {
     "name": "stdout",
     "output_type": "stream",
     "text": [
      "No of ratings in Our Sampled train matrix is : 19214\n",
      "No of ratings in Our Sampled test matrix is : 1150\n"
     ]
    }
   ],
   "source": [
    "print(\"No of ratings in Our Sampled train matrix is : {}\".format(train_sample_sparse.count_nonzero()))\n",
    "print(\"No of ratings in Our Sampled test matrix is : {}\".format(test_sample_sparse.count_nonzero()))"
   ]
  },
  {
   "cell_type": "markdown",
   "metadata": {},
   "source": [
    "### Applying Machine Learning Models"
   ]
  },
  {
   "cell_type": "code",
   "execution_count": 12,
   "metadata": {},
   "outputs": [],
   "source": [
    "error_table = pd.DataFrame(columns = [\"Model\", \"Train RMSE\", \"Train MAPE\", \"Test RMSE\", \"Test MAPE\"])\n",
    "model_train_evaluation = dict()\n",
    "model_test_evaluation = dict()"
   ]
  },
  {
   "cell_type": "code",
   "execution_count": 13,
   "metadata": {},
   "outputs": [],
   "source": [
    "def make_table(model_name, rmse_train, mape_train, rmse_test, mape_test):\n",
    "    global error_table\n",
    "    error_table = error_table.append(pd.DataFrame([[model_name, rmse_train, mape_train, rmse_test, mape_test]], columns = [\"Model\", \"Train RMSE\", \"Train MAPE\", \"Test RMSE\", \"Test MAPE\"]))\n",
    "    error_table.reset_index(drop = True, inplace = True)"
   ]
  }
 ],
 "metadata": {
  "kernelspec": {
   "display_name": "Python 3",
   "language": "python",
   "name": "python3"
  },
  "language_info": {
   "codemirror_mode": {
    "name": "ipython",
    "version": 3
   },
   "file_extension": ".py",
   "mimetype": "text/x-python",
   "name": "python",
   "nbconvert_exporter": "python",
   "pygments_lexer": "ipython3",
   "version": "3.7.3"
  }
 },
 "nbformat": 4,
 "nbformat_minor": 2
}
